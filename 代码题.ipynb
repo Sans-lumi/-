{
 "cells": [
  {
   "cell_type": "markdown",
   "id": "71742443",
   "metadata": {},
   "source": [
    "# 数组\n",
    "- [ ] **二分查找**\n",
    "- [ ] **移除元素**\n",
    "- [ ] **有序数组平方**\n",
    "- [ ] **长度最小的子数组**\n",
    "- [ ] **螺旋矩阵**\n",
    "- [ ] **螺旋矩阵II**\n"
   ]
  },
  {
   "cell_type": "markdown",
   "id": "43824577",
   "metadata": {},
   "source": [
    "### 704. 二分查找\n",
    "- **题目链接：** https://leetcode.cn/problems/binary-search/description/\n",
    "- **解题思路：** nums是一个从大到小排序好的数组，设定左右指针l、r分别指向最小和最大的值，mid为两者中间的指针。若nums[mid]大于target则说明数值只可能在mid的左边，反之则只可能在右边。\n",
    "- **完成时间：** 2024/05/15"
   ]
  },
  {
   "cell_type": "code",
   "execution_count": 6,
   "id": "3eb77634",
   "metadata": {},
   "outputs": [],
   "source": [
    "class Solution(object):\n",
    "    def search(self, nums, target):\n",
    "        l, r = 0, len(nums)-1\n",
    "        while l <= r:\n",
    "            mid = (l + r) // 2\n",
    "            if nums[mid] > target:\n",
    "                r -= 1\n",
    "            elif nums[mid] < target:\n",
    "                l += 1\n",
    "            else:\n",
    "                return mid\n",
    "        return -1"
   ]
  },
  {
   "cell_type": "markdown",
   "id": "7c70272f",
   "metadata": {},
   "source": [
    "### 27. 移除元素\n",
    "- **题目链接：** https://leetcode.cn/problems/remove-element/description/\n",
    "- **解题思路：** 通过快慢指针进行元素移除操作。慢指针指向移除元素后新数组的位置，快指针指向新数组该有的元素。\n",
    "- **完成时间：** 2024/05/15"
   ]
  },
  {
   "cell_type": "code",
   "execution_count": null,
   "id": "be205873",
   "metadata": {},
   "outputs": [],
   "source": [
    "class Solution(object):\n",
    "    def removeElement(self, nums, val):\n",
    "        slow = 0\n",
    "        for fast in range(len(nums)):\n",
    "            if nums[fast] != val:\n",
    "                nums[slow] = nums[fast]\n",
    "                slow += 1\n",
    "        return slow"
   ]
  },
  {
   "cell_type": "markdown",
   "id": "d933e555",
   "metadata": {},
   "source": [
    "### 977. 有序数组的平方\n",
    "- **题目链接：** https://leetcode.cn/problems/squares-of-a-sorted-array/description/\n",
    "- **解题思路：** 问题核心是负数平方可能更大。设立左右指针分别指向原先数组中最小和最大的值，将其平方后进行比对，若右侧大则右指针减一，其值加入到结果集的右侧，反之亦然。\n",
    "- **完成时间：** 2024/05/16"
   ]
  },
  {
   "cell_type": "code",
   "execution_count": null,
   "id": "a6ac7ac7",
   "metadata": {},
   "outputs": [],
   "source": [
    "class Solution(object):\n",
    "    def sortedSquares(self, nums):\n",
    "        # 方法一\n",
    "        for i in range(len(nums)):\n",
    "            nums[i] *= nums[i]\n",
    "        return sorted(nums)\n",
    "    \n",
    "        # 方法二\n",
    "        l, r = 0, len(nums)-1\n",
    "        res = [ _ for _ in range(len(nums))]\n",
    "        k = len(nums)-1\n",
    "        while l <= r:\n",
    "            if nums[l]*nums[l] < nums[r]*nums[r]:\n",
    "                res[k] = nums[r]*nums[r]\n",
    "                r -= 1\n",
    "            else:\n",
    "                res[k] = nums[l]*nums[l]\n",
    "                l += 1\n",
    "            k -= 1\n",
    "        return res"
   ]
  },
  {
   "cell_type": "markdown",
   "id": "f68e1691",
   "metadata": {},
   "source": [
    "### 209. 长度最小的子数组\n",
    "- **题目链接：** https://leetcode.cn/problems/minimum-size-subarray-sum/description/\n",
    "- **解题思路：** 通过滑动窗口计算长度最小的子数组，其中i表示窗口起始位置，j表示窗口终止位置，当窗口内值之和大于目标值后起始位置i+1.\n",
    "- **完成时间：** 2024/05/16"
   ]
  },
  {
   "cell_type": "code",
   "execution_count": null,
   "id": "04f83704",
   "metadata": {},
   "outputs": [],
   "source": [
    "class Solution(object):\n",
    "    def minSubArrayLen(self, target, nums):\n",
    "        i = 0\n",
    "        sum = 0\n",
    "        res = sys.maxsize\n",
    "        for j in range(len(nums)):\n",
    "            sum += nums[j]\n",
    "            while sum >= target:\n",
    "                length = j - i + 1\n",
    "                res = min(res, length)\n",
    "                sum -= nums[i]\n",
    "                i += 1\n",
    "        return res if res != sys.maxsize else 0"
   ]
  },
  {
   "cell_type": "code",
   "execution_count": null,
   "id": "ee6b8285",
   "metadata": {},
   "outputs": [],
   "source": []
  },
  {
   "cell_type": "markdown",
   "id": "19b221a9",
   "metadata": {},
   "source": [
    "# 堆(heap) / 队列(priority queue)"
   ]
  },
  {
   "cell_type": "markdown",
   "id": "d621e83a",
   "metadata": {},
   "source": [
    "### 703.数据流中的第K大元素\n",
    "- **题目链接：** https://leetcode.cn/problems/kth-largest-element-in-a-stream/description/\n",
    "- **解题思路：** 堆是一种经过排序的完全二叉树，最小堆中根结点的键值是所有堆结点键值中最小者。堆通过heappush添加元素，默认排序；通过heappop删除元素，默认删除最小元素。先将原始列表初始化最小堆，若长度大于k，则通过while循环删除最小元素，确保minHeap长度为k。通过add()添加元素时，先将元素加入minHeap，若此时minHeap长度大于k则删除最小元素。在minHeap长度为k时，默认[0]位置元素为第k大元素。\n",
    "- **完成时间：** 2024/05/03"
   ]
  },
  {
   "cell_type": "code",
   "execution_count": null,
   "id": "156366dc",
   "metadata": {},
   "outputs": [],
   "source": [
    "class KthLargest:\n",
    "    def __init__(self, k: int, nums: List[int]):\n",
    "        # 带有k个最大元素的最小堆\n",
    "        self.minHeap, self.k = nums, k\n",
    "        heapq.heapify(self.minHeap)\n",
    "        while len(self.minHeap) > k:\n",
    "            heapq.heappop(self.minHeap)\n",
    "\n",
    "    def add(self, val: int) -> int:\n",
    "        heapq.heappush(self.minHeap, val)\n",
    "        if len(self.minHeap) > self.k:\n",
    "            heapq.heappop(self.minHeap)\n",
    "        return self.minHeap[0]"
   ]
  },
  {
   "cell_type": "markdown",
   "id": "55693ceb",
   "metadata": {},
   "source": [
    "### 1046.最后一块石头的重量\n",
    "- **题目链接：** https://leetcode.cn/problems/last-stone-weight/description/\n",
    "- **解题思路：** 通过最大堆获取两个最大石头的值，若一致则相互抵消，若不一致则取其差值返回到最大堆中。此处由于python中没有最大堆，将数值转化为负数，通过最小堆模拟最大堆的功能。\n",
    "- **完成时间：** 2024/05/03"
   ]
  },
  {
   "cell_type": "code",
   "execution_count": null,
   "id": "80e29a03",
   "metadata": {},
   "outputs": [],
   "source": [
    "class Solution:\n",
    "    def lastStoneWeight(self, stones: List[int]) -> int:\n",
    "        stones = [-s for s in stones]\n",
    "        heapq.heapify(stones)\n",
    "\n",
    "        while len(stones) > 1:\n",
    "            a = heapq.heappop(stones)\n",
    "            b = heapq.heappop(stones)\n",
    "            if a < b:\n",
    "                heapq.heappush(stones, a - b)\n",
    "                \n",
    "        return abs(stones[0]) if stones else 0"
   ]
  },
  {
   "cell_type": "markdown",
   "id": "266d8c20",
   "metadata": {},
   "source": [
    "### 973. 最接近原点的 K 个点\n",
    "- **题目链接：** https://leetcode.cn/problems/k-closest-points-to-origin/description/\n",
    "- **解题思路：** 题目要求输出k个距离原点最短的点。先计算单个点与原点距离dist，将其与该点的坐标一并加入最小堆中（最小堆的计算只考虑位置0的元素）。建立循环，在k大于0时，推出最小堆中最小的元素，将其坐标加入到res结果集中。\n",
    "- **完成时间：** 2024/05/04"
   ]
  },
  {
   "cell_type": "code",
   "execution_count": null,
   "id": "66f7be8f",
   "metadata": {},
   "outputs": [],
   "source": [
    "class Solution:\n",
    "    def kClosest(self, points: List[List[int]], k: int) -> List[List[int]]:\n",
    "        minHeap = []\n",
    "        for x, y in points:\n",
    "            dist = (x**2)+(y**2)\n",
    "            minHeap.append([dist, x, y])\n",
    "        heapq.heapify(minHeap)\n",
    "        res = []\n",
    "        while k > 0:\n",
    "            dist, x, y = heapq.heappop(minHeap)\n",
    "            res.append([x,y])\n",
    "            k -= 1\n",
    "        return res"
   ]
  },
  {
   "cell_type": "markdown",
   "id": "0603cfce",
   "metadata": {},
   "source": [
    "### 215. 数组中的第K个最大元素\n",
    "- **题目链接：** https://leetcode.cn/problems/kth-largest-element-in-an-array/description/\n",
    "- **解题思路：** 方法一直接进行排序，第k个最大元素的index是len(nums)-k；方法二进行quick select，将数组末尾数字作为pivot进行划分，把数组分为比pivot大和比pivot小的左右两部分， p是pivot在数组的下标，若p>k，则算法从左侧进行重复，反之则从右侧继续，直到发现p==k的情况。\n",
    "- **完成时间：** 2024/05/04"
   ]
  },
  {
   "cell_type": "code",
   "execution_count": null,
   "id": "08b801a7",
   "metadata": {},
   "outputs": [],
   "source": [
    "class Solution:\n",
    "    def findKthLargest(self, nums: List[int], k: int) -> int:\n",
    "        # 方法一：排序\n",
    "        nums.sort()\n",
    "        return nums[len(nums)-k]\n",
    "    \n",
    "        # 方法二：quick select\n",
    "        k = len(nums) - k\n",
    "        def quickSelect(l, r):\n",
    "            pivot, p = nums[r], l\n",
    "            for i in range(l, r):\n",
    "                if nums[i] <= pivot:\n",
    "                    nums[p], nums[i] = nums[i], nums[p]\n",
    "                    p+= 1\n",
    "            nums[p], nums[r] = nums[r], nums[p]\n",
    "            \n",
    "            if p > k: return quickSelect(l, p - 1)\n",
    "            elif p < k: return quickSelect(p + 1, r)\n",
    "            else: return nums[p]\n",
    "\n",
    "        return quickSelect(0, len(nums) - 1)\n"
   ]
  },
  {
   "cell_type": "markdown",
   "id": "1cadbaaf",
   "metadata": {},
   "source": [
    "- **题目链接：** https://leetcode.cn/problems/combination-sum/description/\n",
    "- **解题思路：** 用搜索回溯方法避免重复解，通过递归实现。\n",
    "- **完成时间：** 2024/05/05"
   ]
  },
  {
   "cell_type": "code",
   "execution_count": null,
   "id": "b587eba5",
   "metadata": {},
   "outputs": [],
   "source": [
    "class Solution:\n",
    "    def combinationSum(self, candidates: List[int], target: int) -> List[List[int]]:\n",
    "        res = []\n",
    "\n",
    "        def dfs(i, cur, total):\n",
    "            if total == target:\n",
    "                res.append(cur.copy())\n",
    "                return \n",
    "            if i >= len(candidates) or total > target:\n",
    "                return\n",
    "            \n",
    "            cur.append(candidates[i])\n",
    "            dfs(i, cur, total+candidates[i])\n",
    "            cur.pop()\n",
    "            dfs(i+1, cur, total)\n",
    "\n",
    "        dfs(0, [], 0)\n",
    "        return res"
   ]
  },
  {
   "cell_type": "markdown",
   "id": "d75c7a95",
   "metadata": {},
   "source": [
    "### 102. 二叉树的层序遍历\n",
    "- **题目链接：** https://leetcode.cn/problems/binary-tree-level-order-traversal/description/\n",
    "- **解题思路：** 用队列实现广度优先搜索，遍历每一层元素\n",
    "- **完成时间：** 2024/05/07"
   ]
  },
  {
   "cell_type": "code",
   "execution_count": null,
   "id": "0aaee59d",
   "metadata": {},
   "outputs": [],
   "source": [
    "class Solution:\n",
    "    def levelOrder(self, root: Optional[TreeNode]) -> List[List[int]]:\n",
    "        if not root:\n",
    "            return []\n",
    "        \n",
    "        queue = collections.deque() # 队列\n",
    "        queue.append(root)\n",
    "        res = []\n",
    "        while queue:\n",
    "            qlen = len(queue)\n",
    "            ls = []\n",
    "            for i in range(qlen):\n",
    "                node = queue.popleft()\n",
    "                if node.left:\n",
    "                    queue.append(node.left)\n",
    "                if node.right:\n",
    "                    queue.append(node.right)\n",
    "                ls.append(node.val)\n",
    "            res.append(ls)\n",
    "        return res"
   ]
  },
  {
   "cell_type": "markdown",
   "id": "11a9fe31",
   "metadata": {},
   "source": [
    "### 235. 二叉搜索树的最近公共祖先\n",
    "- **题目链接：** https://leetcode.cn/problems/lowest-common-ancestor-of-a-binary-search-tree/description/\n",
    "- **解题思路：** 二叉搜索树两边子树的值本身就与条件有关，若p和q的值都大于节点值则说明p、q在右子树上，反之则在左子树上。由于节点的祖先可以是其自身，只要发现cur节点和p或q其中一个的值相等，cur就是p、q两个节点的公共祖先。\n",
    "- **完成时间：** 2024/05/06"
   ]
  },
  {
   "cell_type": "code",
   "execution_count": null,
   "id": "d72337a3",
   "metadata": {},
   "outputs": [],
   "source": [
    "class Solution:\n",
    "    def lowestCommonAncestor(self, root: 'TreeNode', p: 'TreeNode', q: 'TreeNode') -> 'TreeNode':\n",
    "        cur = root\n",
    "        \n",
    "        while cur:\n",
    "            if p.val > cur.val and q.val > cur.val:\n",
    "                cur = cur.right\n",
    "            elif p.val < cur.val and q.val < cur.val:\n",
    "                cur = cur.left\n",
    "            else:\n",
    "                return cur "
   ]
  },
  {
   "cell_type": "markdown",
   "id": "84aa9ea1",
   "metadata": {},
   "source": [
    "### 226. 翻转二叉树\n",
    "- **题目链接：** https://leetcode.cn/problems/invert-binary-tree/description/\n",
    "- **解题思路：** 递归反转左右子树\n",
    "- **完成时间：** 2024/05/12"
   ]
  },
  {
   "cell_type": "code",
   "execution_count": null,
   "id": "8c522c1b",
   "metadata": {},
   "outputs": [],
   "source": [
    "class Solution:\n",
    "    def invertTree(self, root: Optional[TreeNode]) -> Optional[TreeNode]:\n",
    "        if not root:\n",
    "            return None\n",
    "        \n",
    "        temp = root.left\n",
    "        root.left = root.right\n",
    "        root.right = temp\n",
    "\n",
    "        self.invertTree(root.left)\n",
    "        self.invertTree(root.right)\n",
    "        return root"
   ]
  },
  {
   "cell_type": "markdown",
   "id": "d1bc6f74",
   "metadata": {},
   "source": [
    "### 143. 重排链表\n",
    "- **题目链接：** https://leetcode.cn/problems/reorder-list/description/\n",
    "- **解题思路：** 首先通过快慢指针将链表分为两半；然后将右侧链表顺序逆转；最后把左右两个链表依次合并\n",
    "- **完成时间：** 2024/05/08"
   ]
  },
  {
   "cell_type": "code",
   "execution_count": 1,
   "id": "732f6123",
   "metadata": {},
   "outputs": [
    {
     "ename": "NameError",
     "evalue": "name 'Optional' is not defined",
     "output_type": "error",
     "traceback": [
      "\u001b[0;31m---------------------------------------------------------------------------\u001b[0m",
      "\u001b[0;31mNameError\u001b[0m                                 Traceback (most recent call last)",
      "Cell \u001b[0;32mIn[1], line 1\u001b[0m\n\u001b[0;32m----> 1\u001b[0m \u001b[38;5;28;01mclass\u001b[39;00m \u001b[38;5;21;01mSolution\u001b[39;00m:\n\u001b[1;32m      2\u001b[0m     \u001b[38;5;28;01mdef\u001b[39;00m \u001b[38;5;21mreorderList\u001b[39m(\u001b[38;5;28mself\u001b[39m, head: Optional[ListNode]) \u001b[38;5;241m-\u001b[39m\u001b[38;5;241m>\u001b[39m \u001b[38;5;28;01mNone\u001b[39;00m:\n\u001b[1;32m      3\u001b[0m \u001b[38;5;250m        \u001b[39m\u001b[38;5;124;03m\"\"\"\u001b[39;00m\n\u001b[1;32m      4\u001b[0m \u001b[38;5;124;03m        Do not return anything, modify head in-place instead.\u001b[39;00m\n\u001b[1;32m      5\u001b[0m \u001b[38;5;124;03m        \"\"\"\u001b[39;00m\n",
      "Cell \u001b[0;32mIn[1], line 2\u001b[0m, in \u001b[0;36mSolution\u001b[0;34m()\u001b[0m\n\u001b[1;32m      1\u001b[0m \u001b[38;5;28;01mclass\u001b[39;00m \u001b[38;5;21;01mSolution\u001b[39;00m:\n\u001b[0;32m----> 2\u001b[0m     \u001b[38;5;28;01mdef\u001b[39;00m \u001b[38;5;21mreorderList\u001b[39m(\u001b[38;5;28mself\u001b[39m, head: Optional[ListNode]) \u001b[38;5;241m-\u001b[39m\u001b[38;5;241m>\u001b[39m \u001b[38;5;28;01mNone\u001b[39;00m:\n\u001b[1;32m      3\u001b[0m \u001b[38;5;250m        \u001b[39m\u001b[38;5;124;03m\"\"\"\u001b[39;00m\n\u001b[1;32m      4\u001b[0m \u001b[38;5;124;03m        Do not return anything, modify head in-place instead.\u001b[39;00m\n\u001b[1;32m      5\u001b[0m \u001b[38;5;124;03m        \"\"\"\u001b[39;00m\n\u001b[1;32m      6\u001b[0m         \u001b[38;5;66;03m# 发现分半点\u001b[39;00m\n",
      "\u001b[0;31mNameError\u001b[0m: name 'Optional' is not defined"
     ]
    }
   ],
   "source": [
    "class Solution:\n",
    "    def reorderList(self, head: Optional[ListNode]) -> None:\n",
    "        \"\"\"\n",
    "        Do not return anything, modify head in-place instead.\n",
    "        \"\"\"\n",
    "        # 发现分半点\n",
    "        s = head\n",
    "        f = head.next\n",
    "        while f and f.next :\n",
    "            s = s.next\n",
    "            f = f.next.next\n",
    "\n",
    "        # 隔断两个链表，逆转右侧链表\n",
    "        second = s.next\n",
    "        prev = s.next = None\n",
    "        while second:\n",
    "            temp = second.next\n",
    "            second.next = prev\n",
    "            prev = second\n",
    "            second = temp\n",
    "            \n",
    "        # 合并两个链表\n",
    "        first, second = head, prev\n",
    "        while second:\n",
    "            temp1, temp2 = first.next, second.next\n",
    "            first.next = second\n",
    "            second.next = temp1\n",
    "            first, second = temp1, temp2"
   ]
  },
  {
   "cell_type": "markdown",
   "id": "77ccd2be",
   "metadata": {},
   "source": [
    "### 141. 环形链表\n",
    "- **题目链接：** https://leetcode.cn/problems/linked-list-cycle/description/\n",
    "- **解题思路：** 方法一：建立一个每次走两步的快指针和一个每次走一步的慢指针，如果链表是环形的，快指针终将追上慢指针；方法二：通过哈希表确定是否存在重复节点，若有则是环形链表\n",
    "- **完成时间：** 2024/05/09"
   ]
  },
  {
   "cell_type": "code",
   "execution_count": null,
   "id": "e63872db",
   "metadata": {},
   "outputs": [],
   "source": [
    "class Solution:\n",
    "    def hasCycle(self, head: Optional[ListNode]) -> bool:\n",
    "        # 快慢指针\n",
    "        slow, fast = head, head\n",
    "        while fast and fast.next:\n",
    "            slow = slow.next\n",
    "            fast = fast.next.next\n",
    "            if slow == fast:\n",
    "                return True\n",
    "        return False\n",
    "        # 哈希表\n",
    "        hashset = set()\n",
    "        while head:\n",
    "            if head in hashset:\n",
    "                return True\n",
    "            hashset.add(head)\n",
    "            head = head.next\n",
    "        return False\n"
   ]
  },
  {
   "cell_type": "markdown",
   "id": "9a8fee6f",
   "metadata": {},
   "source": [
    "### 572. 另一棵树的子树\n",
    "- **题目链接：** https://leetcode.cn/problems/subtree-of-another-tree/description/\n",
    "- **解题思路：** 相同的树题目的一个进阶，递归求解。\n",
    "- **完成时间：** 2024/05/10"
   ]
  },
  {
   "cell_type": "code",
   "execution_count": null,
   "id": "ce65e4b3",
   "metadata": {},
   "outputs": [],
   "source": [
    "class Solution:\n",
    "    def isSubtree(self, root, subRoot):\n",
    "        if not subRoot: return True\n",
    "        if not root: return False\n",
    "        if self.sameTree(root, subRoot):\n",
    "            return True\n",
    "        return (self.isSubtree(root.left, subRoot) or self.isSubtree(root.right, subRoot))\n",
    "\n",
    "    def sameTree(self, s, t):\n",
    "        if not s and not t:\n",
    "            return True\n",
    "        if s and t and s.val == t.val:\n",
    "            return (self.sameTree(s.left, t.left) and self.sameTree(s.right, t.right))\n",
    "        return False"
   ]
  },
  {
   "cell_type": "markdown",
   "id": "6f317135",
   "metadata": {},
   "source": [
    "### 208. 实现 Trie (前缀树)\n",
    "- **题目链接：** https://leetcode.cn/problems/implement-trie-prefix-tree/description/\n",
    "- **解题思路：** 通过前缀树进行存储，只要前缀一致就不占用新的存储空间。通过哈希表（字典）存储子树，通过endofword标记是否是单词的最后一个字母。\n",
    "- **完成时间：** 2024/05/11"
   ]
  },
  {
   "cell_type": "code",
   "execution_count": null,
   "id": "5b7b330a",
   "metadata": {},
   "outputs": [],
   "source": [
    "class TrieNode:\n",
    "    def __init__(self):\n",
    "        self.children = {} #hashmap\n",
    "        self.endofword = False\n",
    "\n",
    "class Trie:\n",
    "    def __init__(self):\n",
    "        self.root = TrieNode() \n",
    "\n",
    "    def insert(self, word: str) -> None:\n",
    "        cur = self.root\n",
    "        for i in word:\n",
    "            if i not in cur.children:\n",
    "                cur.children[i] = TrieNode()\n",
    "            cur = cur.children[i]\n",
    "        cur.endofword = True\n",
    "\n",
    "    def search(self, word: str) -> bool:\n",
    "        cur = self.root\n",
    "        for i in word:\n",
    "            if i not in cur.children:\n",
    "                return False\n",
    "            else:\n",
    "                cur = cur.children[i]\n",
    "        return cur.endofword\n",
    "\n",
    "    def startsWith(self, prefix: str) -> bool:\n",
    "        cur = self.root\n",
    "        for i in prefix:\n",
    "            if i not in cur.children:\n",
    "                return False\n",
    "            else:\n",
    "                cur = cur.children[i]\n",
    "        return True"
   ]
  },
  {
   "cell_type": "markdown",
   "id": "4b3ce7a2",
   "metadata": {},
   "source": [
    "### 211. 添加与搜索单词 - 数据结构设计\n",
    "- **题目链接：** https://leetcode.cn/problems/design-add-and-search-words-data-structure/description/\n",
    "- **解题思路：** 难点在于执行搜索函数时\".\"可以与任意字母匹配，此处采用dfs的方法进行递归，如果发现存在\".\"就将其与所有节点以及其之后的路径进行匹配，若存在可以到达endofword的路径则返回True。\n",
    "- **完成时间：** 2024/05/11"
   ]
  },
  {
   "cell_type": "code",
   "execution_count": 2,
   "id": "86d2d642",
   "metadata": {},
   "outputs": [],
   "source": [
    "class TrieNode:\n",
    "    def __init__(self):\n",
    "        self.children = {}\n",
    "        self.endofword = False\n",
    "\n",
    "class WordDictionary:\n",
    "    def __init__(self):\n",
    "        self.root = TrieNode()\n",
    "\n",
    "    def addWord(self, word: str) -> None:\n",
    "        cur = self.root\n",
    "        for i in word:\n",
    "            if i not in cur.children:\n",
    "                cur.children[i] = TrieNode()\n",
    "            cur = cur.children[i]\n",
    "        cur.endofword = True\n",
    "\n",
    "    def search(self, word: str) -> bool:\n",
    "        def dfs(j, root):\n",
    "            cur = root\n",
    "            for i in range(j, len(word)):\n",
    "                c = word[i]\n",
    "                if c == '.':\n",
    "                    for child in cur.children.values():\n",
    "                        if dfs(i+1, child):\n",
    "                            return True\n",
    "                    return False\n",
    "                else:\n",
    "                    if c not in cur.children:\n",
    "                        return False \n",
    "                    cur = cur.children[c] \n",
    "            return cur.endofword\n",
    "        return dfs(0, self.root)"
   ]
  },
  {
   "cell_type": "markdown",
   "id": "b61da6fb",
   "metadata": {},
   "source": [
    "### 200. 岛屿数量\n",
    "- **题目链接：** https://leetcode.cn/problems/number-of-islands/description/\n",
    "- **解题思路：** “1”是陆地，“0”是水域，在发现一片陆地后需确认上下左右方向上是否也有连通的陆地，从而合并为一个岛屿。此处采用深度优先搜素的办法，通过队列实现，若当前位置加上方向后也是陆地且没有经过过则将位置添加到队列和已经过陆地visit的集合中。\n",
    "- **完成时间：** 2024/05/13"
   ]
  },
  {
   "cell_type": "code",
   "execution_count": null,
   "id": "356abb9a",
   "metadata": {},
   "outputs": [],
   "source": [
    "def numIslands(self, grid: List[List[str]]) -> int:\n",
    "    if not grid:\n",
    "        return 0\n",
    "    \n",
    "    rows, cols = len(grid), len(grid[0])\n",
    "    visit = set()\n",
    "    islands = 0\n",
    "    def bfs(r, c):\n",
    "        q = collections.deque()\n",
    "        visit.add((r, c))\n",
    "        q.append((r, c))\n",
    "        while q:\n",
    "            row, col = q.popleft()\n",
    "            directions = [[1,0],[-1,0],[0,1],[0,-1]]\n",
    "            for dr,dc in directions:\n",
    "                r, c = row + dr, col + dc\n",
    "                if (r in range(rows) and \n",
    "                    c in range(cols) and\n",
    "                    grid[r][c] == \"1\" and\n",
    "                    (r, c) not in visit):\n",
    "                    q.append((r, c))\n",
    "                    visit.add((r, c))\n",
    "\n",
    "    for r in range(rows):\n",
    "        for c in range(cols):\n",
    "            if grid[r][c] == \"1\" and (r, c) not in visit:\n",
    "                bfs(r, c)\n",
    "                islands += 1\n",
    "    return islands"
   ]
  },
  {
   "cell_type": "markdown",
   "id": "dc7ebcf2",
   "metadata": {},
   "source": [
    "### 133. 克隆图\n",
    "- **题目链接：** https://leetcode.cn/problems/clone-graph/description/\n",
    "- **解题思路：** 要求是克隆一个与原图一样的新图。用哈希表存储已添加的新图节点，进行dfs，如果节点在哈希表里则返回克隆的节点，反之则创造一个克隆节点，通过递归加上其所有邻居。\n",
    "- **完成时间：** 2024/05/14"
   ]
  },
  {
   "cell_type": "code",
   "execution_count": null,
   "id": "2216469a",
   "metadata": {},
   "outputs": [],
   "source": [
    "class Solution:\n",
    "    def cloneGraph(self, node: Optional['Node']) -> Optional['Node']:\n",
    "        oldtonew = {} # hashmap\n",
    "\n",
    "        def dfs(node):\n",
    "            if node in oldtonew:\n",
    "                return oldtonew[node]\n",
    "            copy = Node(node.val)\n",
    "            oldtonew[node] = copy\n",
    "            for nei in node.neighbors:\n",
    "                copy.neighbors.append(dfs(nei))\n",
    "            return copy\n",
    "        return dfs(node) if node else None"
   ]
  },
  {
   "cell_type": "markdown",
   "id": "1b3d333e",
   "metadata": {},
   "source": [
    "### 33. 搜索旋转排序数组\n",
    "- **题目链接：** https://leetcode.cn/problems/search-in-rotated-sorted-array/\n",
    "- **解题思路：** 首先判断m是属于左侧还是右侧升序序列，然后在序列中与target对比查找\n",
    "- **完成时间：** 2024/05/18"
   ]
  },
  {
   "cell_type": "code",
   "execution_count": null,
   "id": "bf482452",
   "metadata": {},
   "outputs": [],
   "source": [
    "class Solution:\n",
    "    def search(self, nums: List[int], target: int) -> int:\n",
    "        l, r = 0, len(nums)-1\n",
    "\n",
    "        while l <= r:\n",
    "            m = (l+r) // 2\n",
    "            if nums[m] == target:\n",
    "                return m\n",
    "\n",
    "            if nums[m] >= nums[l]:\n",
    "                if target > nums[m] or target < nums[l]:\n",
    "                    l = m + 1\n",
    "                else:\n",
    "                    r = m - 1\n",
    "            else:\n",
    "                if target < nums[m] or target > nums[r]:\n",
    "                    r = m -1\n",
    "                else:\n",
    "                    l = m + 1 \n",
    "        return -1\n"
   ]
  },
  {
   "cell_type": "markdown",
   "id": "18139a23",
   "metadata": {},
   "source": [
    "### 153. 寻找旋转排序数组中的最小值\n",
    "- **题目链接：** https://leetcode.cn/problems/find-minimum-in-rotated-sorted-array/description/\n",
    "- **解题思路：** 若序列是正常升序则输出左侧数。若左侧数大于右侧数，假设左右指针中间位置m是最小值，如果m处数字大于l，说明m属于左侧升序，向右查找转折点；反之则向左查找转折点\n",
    "- **完成时间：** 2024/05/18"
   ]
  },
  {
   "cell_type": "code",
   "execution_count": null,
   "id": "819df71e",
   "metadata": {},
   "outputs": [],
   "source": [
    "class Solution:\n",
    "    def findMin(self, nums: List[int]) -> int:\n",
    "        res = nums[0]\n",
    "        l, r = 0, len(nums)-1\n",
    "        \n",
    "        while l <= r:\n",
    "            if nums[l] < nums[r]:\n",
    "                res = min(res, nums[l])\n",
    "                break\n",
    "            \n",
    "            m = (l+r) // 2\n",
    "            res = min(res, nums[m])\n",
    "            if nums[m] >= nums[l]:\n",
    "                l = m + 1\n",
    "            else:\n",
    "                r = m - 1\n",
    "        return res\n"
   ]
  },
  {
   "cell_type": "markdown",
   "id": "d9102775",
   "metadata": {},
   "source": [
    "### 155. 最小栈\n",
    "- **题目链接：** https://leetcode.cn/problems/min-stack/description/\n",
    "- **解题思路：** python中用列表表示栈。可以用另一个栈存储当前栈中的最小值已实现O(1)的效果\n",
    "- **完成时间：** 2024/05/18"
   ]
  },
  {
   "cell_type": "code",
   "execution_count": null,
   "id": "45fdd2ac",
   "metadata": {},
   "outputs": [],
   "source": [
    "class MinStack(object):\n",
    "\n",
    "    def __init__(self):\n",
    "        self.stack = []\n",
    "        self.minStack = []\n",
    "\n",
    "    def push(self, val):\n",
    "        self.stack.append(val)\n",
    "        val = min(val, self.minStack[-1] if self.minStack else val)\n",
    "        self.minStack.append(val)\n",
    "\n",
    "    def pop(self):\n",
    "        self.stack.pop()\n",
    "        self.minStack.pop()\n",
    "\n",
    "\n",
    "    def top(self):\n",
    "        return self.stack[-1]\n",
    "\n",
    "\n",
    "    def getMin(self):\n",
    "        return self.minStack[-1]\n"
   ]
  },
  {
   "cell_type": "markdown",
   "id": "caa39e27",
   "metadata": {},
   "source": [
    "### 150. 逆波兰表达式求值\n",
    "- **题目链接：** https://leetcode.cn/problems/evaluate-reverse-polish-notation/\n",
    "- **解题思路：** 遍历列表，若为数字则压入栈，若为运算符号则推出两个栈顶元素进行运算，并将结果压入栈\n",
    "- **完成时间：** 2024/05/20"
   ]
  },
  {
   "cell_type": "code",
   "execution_count": null,
   "id": "67eda637",
   "metadata": {},
   "outputs": [],
   "source": [
    "class Solution:\n",
    "    def evalRPN(self, tokens: List[str]) -> int:\n",
    "        stack1 = []\n",
    "        for i in tokens:\n",
    "            if i == '+':\n",
    "                stack1.append(stack1.pop()+stack1.pop())\n",
    "            elif i == '-':\n",
    "                a, b = stack1.pop(), stack1.pop()\n",
    "                stack1.append(b-a)\n",
    "            elif i == '/':\n",
    "                a, b = stack1.pop(), stack1.pop()\n",
    "                stack1.append(int(b/a))\n",
    "            elif i == '*':\n",
    "                stack1.append(stack1.pop()*stack1.pop())\n",
    "            else:\n",
    "                stack1.append(int(i))\n",
    "        return stack1[0]\n",
    "\n"
   ]
  },
  {
   "cell_type": "markdown",
   "id": "f22be9f2",
   "metadata": {},
   "source": [
    "### 22. 括号生成\n",
    "- **题目链接：** https://leetcode.cn/problems/generate-parentheses/description/\n",
    "- **解题思路：** 记录开括号和闭括号的数量，若开括号数小于n则添加开括号，若闭括号数小于开括号则添加闭括号，若两者相等为n则输出结果\n",
    "- **完成时间：** 2024/05/19"
   ]
  },
  {
   "cell_type": "code",
   "execution_count": null,
   "id": "6ac37cd3",
   "metadata": {},
   "outputs": [],
   "source": [
    "class Solution:\n",
    "    def generateParenthesis(self, n: int) -> List[str]:\n",
    "        stack = []\n",
    "        res = []\n",
    "\n",
    "        def check(openN, closeN):\n",
    "            if openN == closeN == n:\n",
    "                res.append(''.join(stack))\n",
    "\n",
    "            if openN < n:\n",
    "                stack.append('(')\n",
    "                check(openN+1, closeN)\n",
    "                stack.pop()\n",
    "            \n",
    "            if openN > closeN:\n",
    "                stack.append(')')\n",
    "                check(openN, closeN+1)\n",
    "                stack.pop()\n",
    "        \n",
    "        check(0,0)\n",
    "        return res\n"
   ]
  },
  {
   "cell_type": "markdown",
   "id": "544a2b33",
   "metadata": {},
   "source": [
    "### 20. 有效的括号\n",
    "- **题目链接：** https://leetcode.cn/problems/valid-parentheses/description/\n",
    "- **解题思路：** 将列表作为栈，通过字典判断括号是否相对。如果括号都能对上则列表stack最终所有的都会消掉，反之说明没有一一对应\n",
    "- **完成时间：** 2024/05/22"
   ]
  },
  {
   "cell_type": "code",
   "execution_count": null,
   "id": "2adb2df5",
   "metadata": {},
   "outputs": [],
   "source": [
    "class Solution(object):\n",
    "    def isValid(self, s):\n",
    "        stack = []\n",
    "        closetoopen = { ')':'(',']':'[','}':'{'}\n",
    "        \n",
    "        for i in s:\n",
    "            if i in closetoopen:\n",
    "                if stack and stack[-1] == closetoopen[i]:\n",
    "                    stack.pop()\n",
    "                else:\n",
    "                    return False\n",
    "            else:\n",
    "                stack.append(i)  \n",
    "        return True if not stack else False"
   ]
  },
  {
   "cell_type": "markdown",
   "id": "26810752",
   "metadata": {},
   "source": [
    "### 567. 字符串的排列\n",
    "- **题目链接：** https://leetcode.cn/problems/permutation-in-string/description/\n",
    "- **解题思路：** 方法一通过tuple(hashmap)存储s1中的字符情况，之后与s2中每个和s1长度相同的子串做对比；方法二通过matches储存当前26个字母对比符合的个数，等于26则输出true\n",
    "- **完成时间：** 2024/05/22"
   ]
  },
  {
   "cell_type": "code",
   "execution_count": null,
   "id": "c8c75489",
   "metadata": {},
   "outputs": [],
   "source": [
    "# 方法一：\n",
    "class Solution(object):\n",
    "    def checkInclusion(self, s1, s2):\n",
    "        hashmap = [0] * 26\n",
    "        res = {}\n",
    "        for i in s1:\n",
    "            hashmap[ord(i)-ord('a')] += 1\n",
    "        res[tuple(hashmap)] = 1\n",
    "\n",
    "        l, r = 0, len(s1)-1\n",
    "        while r < len(s2):\n",
    "            hashp = [0] * 26\n",
    "            for j in s2[l:r+1]:\n",
    "                hashp[ord(j)-ord('a')] += 1\n",
    "            if tuple(hashp) in res:\n",
    "                return True\n",
    "            else:\n",
    "                l += 1\n",
    "                r += 1\n",
    "        return False\n",
    "\n",
    "# 方法二：\n",
    "class Solution(object):\n",
    "    def checkInclusion(self, s1, s2):\n",
    "        if len(s1) > len(s2): return False\n",
    "        \n",
    "        s1Count, s2Count = [0] * 26, [0] * 26\n",
    "        for i in range(len(s1)):\n",
    "            s1Count[ord(s1[i])-ord('a')] += 1\n",
    "            s2Count[ord(s2[i])-ord('a')] += 1\n",
    "        matches = 0\n",
    "        for j in range(26):\n",
    "            matches += (1 if s1Count[j] == s2Count[j] else 0)\n",
    "        l = 0\n",
    "        for r in range(len(s1), len(s2)):\n",
    "            if matches == 26: return True\n",
    "            # 右边添加元素对比\n",
    "            index = ord(s2[r])-ord('a')\n",
    "            s2Count[index] += 1\n",
    "            if s1Count[index] == s2Count[index]:\n",
    "                matches += 1\n",
    "            elif s1Count[index] + 1 == s2Count[index]:\n",
    "                matches -= 1\n",
    "            # 左边减少元素对比\n",
    "            index = ord(s2[l])-ord('a')\n",
    "            s2Count[index] -= 1\n",
    "            if s1Count[index] == s2Count[index]:\n",
    "                matches += 1\n",
    "            elif s1Count[index] - 1 == s2Count[index]:\n",
    "                matches -= 1\n",
    "            l += 1\n",
    "        return matches == 26"
   ]
  },
  {
   "cell_type": "markdown",
   "id": "a8ba4771",
   "metadata": {},
   "source": [
    "### 424. 替换后的最长重复字符\n",
    "- **题目链接：** https://leetcode.cn/problems/longest-repeating-character-replacement/description/\n",
    "- **解题思路：** 通过l，r 表示滑动窗口，只要窗口长度减去当前窗口内最多元素的数量小于或等于可替换的数量k则可以继续扩大窗口，反之则将l += 1向右减小窗口\n",
    "- **完成时间：** 2024/05/22"
   ]
  },
  {
   "cell_type": "code",
   "execution_count": null,
   "id": "dc0a2846",
   "metadata": {},
   "outputs": [],
   "source": [
    "class Solution(object):\n",
    "    def characterReplacement(self, s, k):\n",
    "        count = {}\n",
    "        l = 0\n",
    "        res = 0\n",
    "        maxf = 0\n",
    "        for r in range(len(s)):\n",
    "            count[s[r]] = 1 + count.get(s[r],0)\n",
    "            maxf = max(maxf, count[s[r]])\n",
    "            while (r-l+1) - maxf > k:\n",
    "                count[s[l]] -= 1\n",
    "                l += 1\n",
    "            res = max(res,(r-l+1))\n",
    "        return res\n"
   ]
  },
  {
   "cell_type": "markdown",
   "id": "6c20ba7d",
   "metadata": {},
   "source": [
    "### 1275. 找出井字棋的获胜者\n",
    "- **题目链接：** https://leetcode.cn/problems/find-winner-on-a-tic-tac-toe-game/description/\n",
    "- **解题思路：** moves中偶数个的是A下的棋，奇数个是B下的棋。分开后通过itertools.permutation()遍历A，B数组中所有可能的3个元素的排列组合，通过比较斜率的方法判断a,b,c是否在统一直线上，若有则说明有一方胜利，若无则看A，B数组长度和是否等于9（棋盘内已无空格），等于则说明是平局。\n",
    "- **完成时间：** 2024/05/23"
   ]
  },
  {
   "cell_type": "code",
   "execution_count": null,
   "id": "73c5593c",
   "metadata": {},
   "outputs": [],
   "source": [
    "class Solution(object):\n",
    "    def tictactoe(self, moves):\n",
    "        A = moves[::2]\n",
    "        B = moves[1::2]\n",
    "        for a,b,c in itertools.permutations(A, 3):\n",
    "            if (b[1] - a[1])*(c[0] - a[0]) == (c[1] - a[1])*(b[0] - a[0]):\n",
    "                return \"A\"\n",
    "        for a,b,c in itertools.permutations(B, 3):\n",
    "            if (b[1] - a[1])*(c[0] - a[0]) == (c[1] - a[1])*(b[0] - a[0]):\n",
    "                return \"B\"\n",
    "        if len(A) + len(B) == 9:\n",
    "            return 'Draw'\n",
    "        else:\n",
    "            return 'Pending'"
   ]
  },
  {
   "cell_type": "markdown",
   "id": "066ef1c8",
   "metadata": {},
   "source": [
    "### 1041. 困于环中的机器人\n",
    "- **题目链接：** https://leetcode.cn/problems/robot-bounded-in-circle/description/\n",
    "- **解题思路：** 列出不同方向下走一步的结果direct，通过directindex%4表示当前所属的方向。x,y表示经过instructions移动后所在位置，在[x,y]等于[0,0]和机器人最终朝向与初始朝向不同的情况下都可以说明机器人会在圆内移动。\n",
    "- **完成时间：** 2024/05/23"
   ]
  },
  {
   "cell_type": "code",
   "execution_count": null,
   "id": "5edc5d89",
   "metadata": {},
   "outputs": [],
   "source": [
    "class Solution(object):\n",
    "    def isRobotBounded(self, instructions):\n",
    "        direct = [[0,1],[1,0],[0,-1],[-1,0]]\n",
    "        directindex = 0\n",
    "        x, y = 0, 0\n",
    "        for i in instructions:\n",
    "            if i == 'G':\n",
    "                x += direct[directindex%4][0]\n",
    "                y += direct[directindex%4][1]\n",
    "            if i == 'R':\n",
    "                directindex += 1\n",
    "            if i == 'L':\n",
    "                directindex -= 1\n",
    "        return [x, y] == [0,0] or directindex != 0"
   ]
  },
  {
   "cell_type": "markdown",
   "id": "e84030ac",
   "metadata": {},
   "source": [
    "### 271.字符串的编码与解码\n",
    "- **题目链接：** https://leetcode.cn/problems/encode-and-decode-strings/description/\n",
    "- **解题思路：** 编码过程中在字符串前面存储字符长度以及一个定界符（例：“#”）；解码过程通过定界符识别前面的字符长度，依据字符长度确定解码内容\n",
    "- **完成时间：** 2024/05/25"
   ]
  },
  {
   "cell_type": "code",
   "execution_count": null,
   "id": "52cf95db",
   "metadata": {},
   "outputs": [],
   "source": [
    "class Codec:\n",
    "\n",
    "    def encode(self, strs):\n",
    "        s = ''\n",
    "        for i in strs:\n",
    "            s += str(len(i)) + '#' + i\n",
    "        return s\n",
    "\n",
    "    def decode(self, s):\n",
    "        res, i = [], 0\n",
    "        while i < len(s):\n",
    "            j = i\n",
    "            while s[j] != '#':\n",
    "                j += 1\n",
    "            length = int(s[i:j])\n",
    "            res.append(s[j+1: j+1+length])\n",
    "            i = j+1+length\n",
    "        return res\n"
   ]
  },
  {
   "cell_type": "markdown",
   "id": "12df5966",
   "metadata": {},
   "source": [
    "### 347. 前 K 个高频元素\n",
    "- **题目链接：** https://leetcode.cn/problems/top-k-frequent-elements/description/\n",
    "- **解题思路：** 哈希表；通过列表下标表示频数，在对应位置存放该频次下的数字\n",
    "- **完成时间：** 2024/05/25"
   ]
  },
  {
   "cell_type": "code",
   "execution_count": null,
   "id": "d82ab5d7",
   "metadata": {},
   "outputs": [],
   "source": [
    "class Solution(object):\n",
    "    def topKFrequent(self, nums, k):\n",
    "        count = {}\n",
    "        freq = [[] for i in range(len(nums)+1)]\n",
    "\n",
    "        for n in nums:\n",
    "            count[n] = 1 + count.get(n, 0) # 统计每个数字的频次\n",
    "        for n, c in count.items():\n",
    "            freq[c].append(n) # 记录不同频次（下标）的数字\n",
    "        \n",
    "        res = []\n",
    "        for i in range(len(freq)-1, 0, -1):\n",
    "            for n in freq[i]:\n",
    "                res.append(n) # 在结果集中保留最高频的数字\n",
    "                if len(res) == k:\n",
    "                    return res\n"
   ]
  },
  {
   "cell_type": "markdown",
   "id": "d8d8e873",
   "metadata": {},
   "source": [
    "### 49. 字母异位词分组\n",
    "- **题目链接：** https://leetcode.cn/problems/group-anagrams/description/\n",
    "- **解题思路：** 通过哈希表记录字母个数，key：字母异位词字母数；value：字母异位词列表。\n",
    "- **完成时间：** 2024/05/25"
   ]
  },
  {
   "cell_type": "code",
   "execution_count": null,
   "id": "1b701949",
   "metadata": {},
   "outputs": [],
   "source": [
    "class Solution(object):\n",
    "    def groupAnagrams(self, str_list):\n",
    "        res = defaultdict(list) #默认字典元素为列表\n",
    "        for s in str_list:\n",
    "            hashmap = [0] * 26\n",
    "            for j in s:\n",
    "                hashmap[ord(j)-ord('a')] += 1\n",
    "            res[tuple(hashmap)].append(s) \n",
    "        return res.values()\n"
   ]
  },
  {
   "cell_type": "markdown",
   "id": "4d741f89",
   "metadata": {},
   "source": [
    "### 128. 最长连续序列\n",
    "- **题目链接：** https://leetcode.cn/problems/longest-consecutive-sequence/\n",
    "- **解题思路：** 连续序列最开始的元素前面必然没有可以连续的元素，因此可以借此找到开始元素，并从开始元素一个个向上加计算连续序列的长度（需要排除重复元素）\n",
    "- **完成时间：** 2024/05/26"
   ]
  },
  {
   "cell_type": "code",
   "execution_count": null,
   "id": "ecc7f167",
   "metadata": {},
   "outputs": [],
   "source": [
    "class Solution(object):\n",
    "    def longestConsecutive(self, nums):\n",
    "        numset = set(nums)\n",
    "\n",
    "        res = 0\n",
    "        for n in nums:\n",
    "            if (n - 1) not in numset:\n",
    "                count = 0\n",
    "                while (n + count) in numset:\n",
    "                    count += 1\n",
    "                res = max(res,count)\n",
    "              \n",
    "        return res\n",
    "\n"
   ]
  },
  {
   "cell_type": "markdown",
   "id": "978a47e8",
   "metadata": {},
   "source": [
    "### leetcode 42. 接雨水\n",
    "- **题目链接：** https://leetcode.cn/problems/longest-consecutive-sequence/\n",
    "- **解题思路：** 能接到多少雨水由两边的短板决定。方法一分别记录每个位置的最大左右边界值然后取其中最小的减去当前位置的高度（若为负数也接不到雨水）；方法二采用双指针更新左右边界\n",
    "- **完成时间：** 2024/05/27"
   ]
  },
  {
   "cell_type": "code",
   "execution_count": null,
   "id": "0b2fc58f",
   "metadata": {},
   "outputs": [],
   "source": [
    "class Solution(object):\n",
    "    def trap(self, height):\n",
    "        # 方法一：\n",
    "        maxl,maxr = 0, 0\n",
    "        maxleft = []\n",
    "        maxright = []\n",
    "        for i in height:\n",
    "            maxleft.append(maxl)\n",
    "            maxl=max(maxl,i)\n",
    "        for j in range(len(height)-1,-1,-1):\n",
    "            maxright.insert(0,maxr)\n",
    "            maxr = max(height[j],maxr)\n",
    "        \n",
    "        res = 0\n",
    "        for i in range(0,len(height)):\n",
    "            if min(maxleft[i],maxright[i])-height[i] > 0:\n",
    "                res += min(maxleft[i],maxright[i])-height[i]\n",
    "        return res\n",
    "    \n",
    "        # 方法二：\n",
    "        l, r = 0, len(height)-1\n",
    "        maxl, maxr = height[l], height[r] \n",
    "        res = 0\n",
    "        while l < r:\n",
    "            if maxr > maxl:\n",
    "                l += 1\n",
    "                maxl = max(height[l],maxl)\n",
    "                res += maxl - height[l]\n",
    "            else:\n",
    "                r -= 1\n",
    "                maxr = max(height[r],maxr)\n",
    "                res += maxr - height[r]\n",
    "        return res"
   ]
  },
  {
   "cell_type": "markdown",
   "id": "606b8ad1",
   "metadata": {},
   "source": [
    "### 595. 大的国家\n",
    "- **题目链接：** https://leetcode.cn/problems/big-countries/?envType=study-plan-v2&envId=30-days-of-pandas&lang=pythondata\n",
    "- **解题思路：** 选择面积大于300万平方公里或人口大于2500万的国家，额外再加一个列表作为选中的变量\n",
    "- **完成时间：** 2024/06/04"
   ]
  },
  {
   "cell_type": "code",
   "execution_count": null,
   "id": "9eb5df06",
   "metadata": {},
   "outputs": [],
   "source": [
    "import pandas as pd\n",
    "def big_countries(world: pd.DataFrame) -> pd.DataFrame:\n",
    "    return world[(world['area'] >= 3000000) | (world['population'] >= 25000000)][['name','population','area']]"
   ]
  },
  {
   "cell_type": "markdown",
   "id": "900ec0d9",
   "metadata": {},
   "source": [
    "### 1757. 可回收且低脂的产品\n",
    "- **题目链接：** https://leetcode.cn/problems/recyclable-and-low-fat-products/description/?envType=study-plan-v2&envId=30-days-of-pandas&lang=pythondata\n",
    "- **解题思路：** 要筛选的列名为'product_id'，使得低脂和可回收的列都'Y'。\n",
    "- **完成时间：** 2024/06/01"
   ]
  },
  {
   "cell_type": "code",
   "execution_count": null,
   "id": "4d718358",
   "metadata": {},
   "outputs": [],
   "source": [
    "import pandas as pd\n",
    "def find_products(products: pd.DataFrame) -> pd.DataFrame:\n",
    "    return products[['product_id']][(products['low_fats']=='Y') & (products['recyclable']=='Y')]"
   ]
  },
  {
   "cell_type": "markdown",
   "id": "d3391347",
   "metadata": {},
   "source": [
    "### 15. 三数之和\n",
    "- **题目链接：** https://leetcode.cn/problems/3sum/description/\n",
    "- **解题思路：** 要求输出和为0的所有三元组，先对数组进行排序。选中可能的三元组中的一个数i进行遍历，另外两个数以两数之和的思路来做（若和大于特定值则右指针左移，反之则左指针右移），将总和为0的三元组存放到res结果集中，并通过while循环去重。\n",
    "- **完成时间：** 2024/06/04"
   ]
  },
  {
   "cell_type": "code",
   "execution_count": null,
   "id": "a9347980",
   "metadata": {},
   "outputs": [],
   "source": [
    "class Solution(object):\n",
    "    def threeSum(self, nums):\n",
    "        \"\"\"\n",
    "        :type nums: List[int]\n",
    "        :rtype: List[List[int]]\n",
    "        \"\"\"\n",
    "        nums.sort()\n",
    "        res = []\n",
    "        n = len(nums)\n",
    "        for i in range(n-2):\n",
    "            x = nums[i]\n",
    "            if i > 0 and x == nums[i-1]:\n",
    "                continue\n",
    "            l = i + 1\n",
    "            r = n - 1\n",
    "            while l < r:\n",
    "                if nums[l] + nums[r] == 0 - x:\n",
    "                    res.append([x,nums[l],nums[r]])\n",
    "                    l += 1\n",
    "                    r -= 1\n",
    "                    while l < r and nums[l] == nums[l-1]:\n",
    "                        l += 1\n",
    "                    while l < r and nums[r] == nums[r+1]:\n",
    "                        r -= 1\n",
    "                if nums[l] + nums[r] > 0 - x:\n",
    "                    r -= 1\n",
    "                if nums[l] + nums[r] < 0 - x:\n",
    "                    l += 1\n",
    "        return res\n"
   ]
  },
  {
   "cell_type": "markdown",
   "id": "b1a584bc",
   "metadata": {},
   "source": [
    "### 454. 四数相加 II\n",
    "- **题目链接：** https://leetcode.cn/problems/4sum-ii/description/\n",
    "- **解题思路：** 通过两个for循环分别遍历两个数组中各取一个值相加的结果，并将个数以字典的形式存储下来。遍历另外两个数组的值，若hashmap中存在其和的负数则将对应值加到res中。\n",
    "- **完成时间：** 2024/06/04"
   ]
  },
  {
   "cell_type": "code",
   "execution_count": null,
   "id": "fe73a472",
   "metadata": {},
   "outputs": [],
   "source": [
    "class Solution(object):\n",
    "    def fourSumCount(self, nums1, nums2, nums3, nums4):\n",
    "        \"\"\"\n",
    "        :type nums1: List[int]\n",
    "        :type nums2: List[int]\n",
    "        :type nums3: List[int]\n",
    "        :type nums4: List[int]\n",
    "        :rtype: int\n",
    "        \"\"\"\n",
    "        hashmap = {}\n",
    "        res = 0\n",
    "        for i in nums1:\n",
    "            for j in nums2:\n",
    "                if (i+j) not in hashmap:\n",
    "                    hashmap[i+j] = 1 + hashmap.get(i+j,0)\n",
    "                else:\n",
    "                    hashmap[i+j] += 1\n",
    "        for k in nums3:\n",
    "            for l in nums4:\n",
    "                if (- k - l) in hashmap:\n",
    "                    res += hashmap[- k - l]\n",
    "        return res"
   ]
  },
  {
   "cell_type": "markdown",
   "id": "3d49c8e2",
   "metadata": {},
   "source": [
    "### 383. 赎金信\n",
    "- **题目链接：** https://leetcode.cn/problems/ransom-note/description/\n",
    "- **解题思路：** 通过字典记录magazine中字符的个数，再减去ransomNote中字符的个数，若结果中存在负数则为False。\n",
    "- **完成时间：** 2024/06/05"
   ]
  },
  {
   "cell_type": "code",
   "execution_count": null,
   "id": "25bb70db",
   "metadata": {},
   "outputs": [],
   "source": [
    "class Solution(object):\n",
    "    def canConstruct(self, ransomNote, magazine):\n",
    "        \"\"\"\n",
    "        :type ransomNote: str\n",
    "        :type magazine: str\n",
    "        :rtype: bool\n",
    "        \"\"\"\n",
    "        hashmap = {}\n",
    "        for i in magazine:\n",
    "            hashmap[i] = 1 + hashmap.get(i, 0)\n",
    "        for j in ransomNote:\n",
    "            hashmap[j] = hashmap.get(j, 0) - 1\n",
    "        for v in hashmap.values():\n",
    "            if v < 0:\n",
    "                return False\n",
    "        return True\n"
   ]
  },
  {
   "cell_type": "markdown",
   "id": "be1c0f10",
   "metadata": {},
   "source": [
    "### 18. 四数之和\n",
    "- **题目链接：** https://leetcode.cn/problems/4sum/description/\n",
    "- **解题思路：** 两层for循环，最里面那层仍旧用三数之和双指针的思路。每层for循环都进行剪枝和去重的操作。\n",
    "- **完成时间：** 2024/06/05"
   ]
  },
  {
   "cell_type": "code",
   "execution_count": null,
   "id": "b4f9338d",
   "metadata": {},
   "outputs": [],
   "source": [
    "class Solution(object):\n",
    "    def fourSum(self, nums, target):\n",
    "        nums.sort()\n",
    "        res = []\n",
    "        for i in range(len(nums)-3):\n",
    "            if nums[i] > target and target > 0:\n",
    "                break\n",
    "            if i > 0 and nums[i] == nums[i-1]:\n",
    "                continue\n",
    "            for j in range(i+1, len(nums)-2):\n",
    "                if nums[i] + nums[j] > target and target > 0:\n",
    "                    break\n",
    "                if j > i + 1 and nums[j] == nums[j-1]:\n",
    "                    continue\n",
    "                l = j + 1\n",
    "                r = len(nums) - 1\n",
    "                while l < r:\n",
    "                    if nums[l] + nums[r] == target - nums[i] - nums[j]:\n",
    "                        res.append([nums[l],nums[r],nums[i],nums[j]])\n",
    "                        l += 1\n",
    "                        r -= 1\n",
    "                        while l < r and nums[l] == nums[l-1]:\n",
    "                            l += 1\n",
    "                        while l < r and nums[r] == nums[r+1]:\n",
    "                            r -= 1\n",
    "                    elif nums[l] + nums[r] > target - nums[i] - nums[j]:\n",
    "                        r -= 1\n",
    "                    else:\n",
    "                        l += 1\n",
    "        return res"
   ]
  },
  {
   "cell_type": "markdown",
   "id": "3fa47dc2",
   "metadata": {},
   "source": [
    "### 203. 移除链表元素\n",
    "- **题目链接：** https://leetcode.cn/problems/remove-linked-list-elements/description/\n",
    "- **解题思路：** 若链表删除节点在中间则直接将node.next指向node.next.next，若删除节点是头节点则将头节点向后移一位。此处可以添加一个虚拟头节点指向原头节点，使得删除的规则保持一致。\n",
    "- **完成时间：** 2024/06/06"
   ]
  },
  {
   "cell_type": "code",
   "execution_count": null,
   "id": "ce510a1b",
   "metadata": {},
   "outputs": [],
   "source": [
    "# Definition for singly-linked list.\n",
    "# class ListNode(object):\n",
    "#     def __init__(self, val=0, next=None):\n",
    "#         self.val = val\n",
    "#         self.next = next\n",
    "class Solution(object):\n",
    "    def removeElements(self, head, val):\n",
    "        # 不用虚拟头节点\n",
    "        while head != None and head.val == val:\n",
    "            head = head.next\n",
    "        node = head\n",
    "        while node != None and node.next != None:\n",
    "            if node.next.val == val:\n",
    "                node.next = node.next.next\n",
    "            else:\n",
    "                node = node.next\n",
    "        return head\n",
    "        # 用虚拟头节点\n",
    "        dummy = ListNode(next = head)\n",
    "        node = dummy\n",
    "        while node != None and node.next != None:\n",
    "            if node.next.val == val:\n",
    "                node.next = node.next.next\n",
    "            else:\n",
    "                node = node.next\n",
    "        return dummy.next\n",
    "        "
   ]
  },
  {
   "cell_type": "markdown",
   "id": "a0520e06",
   "metadata": {},
   "source": [
    "### 707. 设计链表\n",
    "- **题目链接：** https://leetcode.cn/problems/design-linked-list/description/\n",
    "- **解题思路：** 链表的增删获取元素操作\n",
    "- **完成时间：** 2024/06/08"
   ]
  },
  {
   "cell_type": "code",
   "execution_count": null,
   "id": "5466e5fd",
   "metadata": {},
   "outputs": [],
   "source": [
    "class ListNode:\n",
    "    def __init__(self, val=0, next=None):\n",
    "        self.val = val\n",
    "        self.next = next\n",
    "        \n",
    "class MyLinkedList:\n",
    "    def __init__(self):\n",
    "        self.dummy_head = ListNode()\n",
    "        self.size = 0\n",
    "\n",
    "    def get(self, index: int) -> int:\n",
    "        if index < 0 or index >= self.size:\n",
    "            return -1\n",
    "        \n",
    "        current = self.dummy_head.next\n",
    "        for i in range(index):\n",
    "            current = current.next\n",
    "            \n",
    "        return current.val\n",
    "\n",
    "    def addAtHead(self, val: int) -> None:\n",
    "        self.dummy_head.next = ListNode(val, self.dummy_head.next)\n",
    "        self.size += 1\n",
    "\n",
    "    def addAtTail(self, val: int) -> None:\n",
    "        current = self.dummy_head\n",
    "        while current.next:\n",
    "            current = current.next\n",
    "        current.next = ListNode(val)\n",
    "        self.size += 1\n",
    "\n",
    "    def addAtIndex(self, index: int, val: int) -> None:\n",
    "        if index < 0 or index > self.size:\n",
    "            return\n",
    "        \n",
    "        current = self.dummy_head\n",
    "        for i in range(index):\n",
    "            current = current.next\n",
    "        current.next = ListNode(val, current.next)\n",
    "        self.size += 1\n",
    "\n",
    "    def deleteAtIndex(self, index: int) -> None:\n",
    "        if index < 0 or index >= self.size:\n",
    "            return\n",
    "        \n",
    "        current = self.dummy_head\n",
    "        for i in range(index):\n",
    "            current = current.next\n",
    "        current.next = current.next.next\n",
    "        self.size -= 1\n"
   ]
  },
  {
   "cell_type": "markdown",
   "id": "f65163d5",
   "metadata": {},
   "source": [
    "### 2. 两数相加\n",
    "- **题目链接：** https://leetcode.cn/problems/add-two-numbers/description/\n",
    "- **解题思路：** 链表两数相加，注意进位。\n",
    "- **完成时间：** 2024/06/11"
   ]
  },
  {
   "cell_type": "code",
   "execution_count": null,
   "id": "85deb34b",
   "metadata": {},
   "outputs": [],
   "source": [
    "class Solution(object):\n",
    "    def addTwoNumbers(self, l1, l2):\n",
    "        \"\"\"\n",
    "        :type l1: ListNode\n",
    "        :type l2: ListNode\n",
    "        :rtype: ListNode\n",
    "        \"\"\"\n",
    "        res = head = ListNode()\n",
    "        carry = 0\n",
    "        while l1 or l2 or carry:\n",
    "            sum12 = 0\n",
    "            sum12 += l1.val if l1 else 0\n",
    "            sum12 += l2.val if l2 else 0\n",
    "            res.next = ListNode(val = (sum12 + carry)%10)\n",
    "            res = res.next\n",
    "            carry = 1 if sum12 + carry >= 10 else 0\n",
    "            l1 = l1.next if l1 else l1\n",
    "            l2 = l2.next if l2 else l2\n",
    "        return head.next"
   ]
  },
  {
   "cell_type": "markdown",
   "id": "9e8513a2",
   "metadata": {},
   "source": [
    "### 3. 无重复字符的最长子串\n",
    "- **题目链接：** https://leetcode.cn/problems/longest-substring-without-repeating-characters/description/\n",
    "- **解题思路：** 滑动窗口记录无重复字符的最长子串个数，用字典判断是否存在重复\n",
    "- **完成时间：** 2024/06/12"
   ]
  },
  {
   "cell_type": "code",
   "execution_count": null,
   "id": "cf2a63cd",
   "metadata": {},
   "outputs": [],
   "source": [
    "class Solution(object):\n",
    "    def lengthOfLongestSubstring(self, s):\n",
    "        \"\"\"\n",
    "        :type s: str\n",
    "        :rtype: int\n",
    "        \"\"\"\n",
    "        l = r = 0\n",
    "        res = 0\n",
    "        while r < len(s):\n",
    "            hashmap = {}\n",
    "            count = 0\n",
    "            while r < len(s) and s[r] not in hashmap:\n",
    "                hashmap[s[r]] = 1 + hashmap.get(s[r], 0)\n",
    "                count += 1\n",
    "                r += 1\n",
    "            else:\n",
    "                l += 1\n",
    "                r = l\n",
    "            res = max(count, res)\n",
    "        return res"
   ]
  },
  {
   "cell_type": "markdown",
   "id": "6f4e7672",
   "metadata": {},
   "source": [
    "### 9. 回文数\n",
    "- **题目链接：** https://leetcode.cn/problems/palindrome-number/description/\n",
    "- **解题思路：** 方法一：先将数字转换成字符，再从两边向内依次比对，若出现不一致则False； 方法二：求得反转后的数字，与原数字进行对比\n",
    "- **完成时间：** 2024/06/14"
   ]
  },
  {
   "cell_type": "code",
   "execution_count": null,
   "id": "cb086f32",
   "metadata": {},
   "outputs": [],
   "source": [
    "class Solution(object):\n",
    "    def isPalindrome(self, x):\n",
    "        # 方法一\n",
    "        s = str(x)\n",
    "        l, r = 0, len(s)-1\n",
    "        while l < r:\n",
    "            if s[l] != s[r]:\n",
    "                return False\n",
    "            l += 1\n",
    "            r -= 1\n",
    "        return True\n",
    "        # 方法二\n",
    "        if x < 0:\n",
    "            return False\n",
    "        reverse = 0\n",
    "        temp = x\n",
    "        while temp:\n",
    "            reverse = reverse * 10 + temp % 10\n",
    "            temp = temp // 10\n",
    "        return reverse ==x "
   ]
  },
  {
   "cell_type": "markdown",
   "id": "c0db338a",
   "metadata": {},
   "source": [
    "### 14. 最长公共前缀\n",
    "- **题目链接：** https://leetcode.cn/problems/longest-common-prefix/submissions/539502742/\n",
    "- **解题思路：** 先假设最长公共前缀是strs里第一个字符，将之后的字符与之进行对比，若是有不一致则进行直接进行截断，将前面一致的作为最长公共前缀\n",
    "- **完成时间：** 2024/06/14"
   ]
  },
  {
   "cell_type": "code",
   "execution_count": null,
   "id": "31744dfb",
   "metadata": {},
   "outputs": [],
   "source": [
    "class Solution:\n",
    "    def longestCommonPrefix(self, strs: List[str]) -> str:\n",
    "        long = strs[0]\n",
    "        for i in range(1, len(strs)):\n",
    "            s = strs[i]\n",
    "            lens = min(len(long),len(s))\n",
    "            for n in range(lens):\n",
    "                if s[n] != long[n]:\n",
    "                    long = long[0:n]\n",
    "                    break\n",
    "            long = long[0:lens]    \n",
    "        return long"
   ]
  },
  {
   "cell_type": "markdown",
   "id": "1af22cb7",
   "metadata": {},
   "source": [
    "### 21. 合并两个有序链表\n",
    "- **题目链接：** https://leetcode.cn/problems/merge-two-sorted-lists/\n",
    "- **解题思路：** 先创立一个dummy头节点，若list1的值更大则添加list2的节点到dummy节点后，反之亦然。在两个链表有其中一个为空时，直接加入剩余链表的所有元素。\n",
    "- **完成时间：** 2024/06/15"
   ]
  },
  {
   "cell_type": "code",
   "execution_count": null,
   "id": "c7a14b41",
   "metadata": {},
   "outputs": [],
   "source": [
    "class Solution:\n",
    "    def mergeTwoLists(self, list1: Optional[ListNode], list2: Optional[ListNode]) -> Optional[ListNode]:\n",
    "        res = head = ListNode()\n",
    "        while list1 and list2:\n",
    "            if list1.val >= list2.val:\n",
    "                head.next = list2\n",
    "                list2 = list2.next\n",
    "            else:\n",
    "                head.next = list1\n",
    "                list1 = list1.next\n",
    "            head = head.next\n",
    "        head.next = list1 if list1 else list2    \n",
    "        return res.next"
   ]
  },
  {
   "cell_type": "markdown",
   "id": "4818b2ac",
   "metadata": {},
   "source": [
    "### 26. 删除有序数组中的重复项\n",
    "- **题目链接：** https://leetcode.cn/problems/remove-duplicates-from-sorted-array/description/\n",
    "- **解题思路：** 方法一：通过哈希表记录不重复的元素，存在重复元素时删除；方法二：快慢指针，若快指针与慢指针元素不同则将慢指针加一并把快指针上的元素赋给慢指针，反之则快指针加一。\n",
    "- **完成时间：** 2024/06/16"
   ]
  },
  {
   "cell_type": "code",
   "execution_count": null,
   "id": "6ea7a164",
   "metadata": {},
   "outputs": [],
   "source": [
    "class Solution(object):\n",
    "    def removeDuplicates(self, nums):\n",
    "        if not nums:\n",
    "            return 0\n",
    "        if nums == 1:\n",
    "            return 1\n",
    "        # 方法一：哈希表\n",
    "        hashmap = {}\n",
    "        i = 0\n",
    "        while i < len(nums):\n",
    "            if nums[i] in hashmap:\n",
    "                del nums[i]\n",
    "            else:\n",
    "                hashmap[nums[i]] = 1 + hashmap.get(nums[i], 0)\n",
    "                i += 1\n",
    "        return len(nums)\n",
    "        # 方法二：快慢指针\n",
    "        slow = fast = 0\n",
    "        n = len(nums)\n",
    "        while fast < n:\n",
    "            if nums[fast] != nums[slow]:\n",
    "                slow += 1\n",
    "                nums[slow] = nums[fast]\n",
    "            else:\n",
    "                fast += 1\n",
    "        return slow + 1"
   ]
  },
  {
   "cell_type": "markdown",
   "id": "3c96e553",
   "metadata": {},
   "source": [
    "### 35. 搜索插入位置\n",
    "- **题目链接：** https://leetcode.cn/problems/search-insert-position/description/\n",
    "- **解题思路：** 通过二分查找来做搜索target，若找不到则返回左指针作为插入位置。\n",
    "- **完成时间：** 2024/06/17"
   ]
  },
  {
   "cell_type": "code",
   "execution_count": null,
   "id": "3e212595",
   "metadata": {},
   "outputs": [],
   "source": [
    "class Solution(object):\n",
    "    def searchInsert(self, nums, target):\n",
    "        l, r = 0, len(nums)-1\n",
    "        while l <= r:\n",
    "            mid = (l + r) // 2\n",
    "            if nums[mid] == target:\n",
    "                return mid\n",
    "            elif nums[mid] < target:\n",
    "                l = mid + 1\n",
    "            else:\n",
    "                r = mid -1        \n",
    "        return l"
   ]
  },
  {
   "cell_type": "markdown",
   "id": "1cdda7bb",
   "metadata": {},
   "source": [
    "### 66. 加一\n",
    "- **题目链接：** https://leetcode.cn/problems/plus-one/description/\n",
    "- **解题思路：** 若当前位上小于9则直接加一，反之则向前进一位。\n",
    "- **完成时间：** 2024/06/17"
   ]
  },
  {
   "cell_type": "code",
   "execution_count": null,
   "id": "ffdba990",
   "metadata": {},
   "outputs": [],
   "source": [
    "class Solution(object):\n",
    "    def plusOne(self, digits):\n",
    "        if digits[-1] < 9:\n",
    "            digits[-1] += 1\n",
    "            return digits\n",
    "        else:\n",
    "            n = len(digits) - 1\n",
    "            while n >= 0:\n",
    "                if digits[n] == 9:\n",
    "                    digits[n] = 0\n",
    "                    n -= 1\n",
    "                else:\n",
    "                    digits[n] += 1\n",
    "                    break\n",
    "            if n == -1:\n",
    "                digits.insert(0, 1)\n",
    "        return digits"
   ]
  },
  {
   "cell_type": "markdown",
   "id": "39460879",
   "metadata": {},
   "source": [
    "### 509. 斐波那契数\n",
    "- **题目链接：** https://leetcode.cn/problems/fibonacci-number/description/\n",
    "- **解题思路：** 递归；\n",
    "动态规划\n",
    "    1. 确定dp[i]含义：第i个斐波那契数列的值为dp[i]\n",
    "    2. 递推公式：dp[i]=dp[i-1]+dp[i-2]\n",
    "    3. dp数组如何初始化：dp[0]=1 dp[1]=1\n",
    "    4. 遍历顺序：从前向后\n",
    "- **完成时间：** 2024/06/18\n"
   ]
  },
  {
   "cell_type": "code",
   "execution_count": null,
   "id": "eca862b3",
   "metadata": {},
   "outputs": [],
   "source": [
    "class Solution(object):\n",
    "    def fib(self, n):\n",
    "        # 方法一：递归\n",
    "        if n < 2:\n",
    "            return n\n",
    "        else:\n",
    "            return self.fib(n-1) + self.fib(n-2)\n",
    "        # 方法二：动态规划\n",
    "        if n < 2:\n",
    "            return n\n",
    "        dp = [0, 1]\n",
    "        for i in range(2, n+1):\n",
    "            total = dp[0] + dp[1]\n",
    "            dp[0] = dp[1]\n",
    "            dp[1] = total\n",
    "        return dp[1]"
   ]
  },
  {
   "cell_type": "markdown",
   "id": "a078be2a",
   "metadata": {},
   "source": [
    "### 70. 爬楼梯\n",
    "- **题目链接：** https://leetcode.cn/problems/fibonacci-number/description/\n",
    "- **解题思路：** 循环；动态规划\n",
    "    1. 确定dp[i]含义：达到第i阶台阶有dp[i]种方法\n",
    "    2. 递推公式：dp[i]=dp[i-1]+dp[i-2]\n",
    "    3. dp数组如何初始化：dp[1]=1 dp[2]=2 （此处dp[0]无含义）\n",
    "    4. 遍历顺序：从前向后\n",
    "- **完成时间：** 2024/06/20"
   ]
  },
  {
   "cell_type": "code",
   "execution_count": null,
   "id": "58c66031",
   "metadata": {},
   "outputs": [],
   "source": [
    "class Solution(object):\n",
    "    def climbStairs(self, n):\n",
    "        if n <= 2:\n",
    "            return n\n",
    "        # 方法一：循环\n",
    "        else:\n",
    "            a, b = 1, 2\n",
    "            tmp = 0\n",
    "            for i in range(3, n+1):\n",
    "                tmp = b\n",
    "                b += a\n",
    "                a = tmp\n",
    "            return b\n",
    "        # 方法二：动态规划\n",
    "        dp= [0, 1, 2]\n",
    "        for i in range(3, n+1):\n",
    "            total = dp[1] + dp[2]\n",
    "            dp[1] = dp[2]\n",
    "            dp[2] = total\n",
    "        return dp[2]"
   ]
  },
  {
   "cell_type": "markdown",
   "id": "ef311601",
   "metadata": {},
   "source": [
    "### 83. 删除排序链表中的重复元素\n",
    "- **题目链接：** https://leetcode.cn/problems/remove-duplicates-from-sorted-list/description/\n",
    "- **解题思路：** 方法一：哈希表，通过hashmap存储出现过的元素；方法二：快慢指针，若快指针和慢指针指向的元素不一样，则将快指针作为慢指针的next，慢指针向前移动，否则快指针向前移动指导找到不一样元素。\n",
    "- **完成时间：** 2024/06/21"
   ]
  },
  {
   "cell_type": "code",
   "execution_count": null,
   "id": "18335b0e",
   "metadata": {},
   "outputs": [],
   "source": [
    "class Solution(object):\n",
    "    def deleteDuplicates(self, head):\n",
    "        if not head:\n",
    "            return head\n",
    "        # 方法一：哈希表\n",
    "        hashmap = {}\n",
    "        dummy_head = ListNode(next=head)\n",
    "        cur = dummy_head\n",
    "        while cur.next:\n",
    "            if cur.next.val in hashmap:\n",
    "                cur.next = cur.next.next\n",
    "            else:\n",
    "                hashmap[cur.next.val] = 1\n",
    "                cur = cur.next\n",
    "        return dummy_head.next\n",
    "        # 方法二：快慢指针\n",
    "        slow = head\n",
    "        fast = head.next\n",
    "        while fast:\n",
    "            if fast.val != slow.val:\n",
    "                slow.next = fast\n",
    "                slow = slow.next\n",
    "            fast = fast.next\n",
    "        slow.next = None\n",
    "        return head"
   ]
  },
  {
   "cell_type": "code",
   "execution_count": null,
   "id": "b4511a6e",
   "metadata": {},
   "outputs": [],
   "source": []
  },
  {
   "cell_type": "code",
   "execution_count": null,
   "id": "fb6789dc",
   "metadata": {},
   "outputs": [],
   "source": []
  },
  {
   "cell_type": "code",
   "execution_count": null,
   "id": "4aee74ae",
   "metadata": {},
   "outputs": [],
   "source": []
  },
  {
   "cell_type": "code",
   "execution_count": null,
   "id": "ecfd4748",
   "metadata": {},
   "outputs": [],
   "source": []
  },
  {
   "cell_type": "code",
   "execution_count": null,
   "id": "cc38352c",
   "metadata": {},
   "outputs": [],
   "source": []
  }
 ],
 "metadata": {
  "kernelspec": {
   "display_name": "Python 3 (ipykernel)",
   "language": "python",
   "name": "python3"
  },
  "language_info": {
   "codemirror_mode": {
    "name": "ipython",
    "version": 3
   },
   "file_extension": ".py",
   "mimetype": "text/x-python",
   "name": "python",
   "nbconvert_exporter": "python",
   "pygments_lexer": "ipython3",
   "version": "3.11.5"
  }
 },
 "nbformat": 4,
 "nbformat_minor": 5
}
